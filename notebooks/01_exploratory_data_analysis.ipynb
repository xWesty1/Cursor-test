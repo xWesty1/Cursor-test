# Import required libraries
import pandas as pd
import numpy as np
import matplotlib.pyplot as plt
import seaborn as sns
import plotly.express as px
import plotly.graph_objects as go
from plotly.subplots import make_subplots
import warnings
from datetime import datetime, timedelta
from scipy import stats
import plotly.figure_factory as ff

# Configure display settings
pd.set_option('display.max_columns', None)
pd.set_option('display.width', 1000)
warnings.filterwarnings('ignore')

# Set plotting style
plt.style.use('seaborn-v0_8')
sns.set_palette("husl")

print("📚 Libraries imported successfully!")# Customer Lifetime Value Prediction - Exploratory Data Analysis

## 🎯 Objective
This notebook performs comprehensive exploratory data analysis (EDA) for our Customer Lifetime Value (CLV) prediction project. We'll analyze customer behavior patterns, transaction trends, and feature relationships to inform our modeling strategy.

## 📊 Analysis Overview
1. **Data Overview & Quality Assessment**
2. **Customer Demographics Analysis**
3. **Transaction Behavior Patterns**
4. **CLV Distribution & Segmentation**
5. **Feature Correlation Analysis**
6. **Business Insights & Recommendations**